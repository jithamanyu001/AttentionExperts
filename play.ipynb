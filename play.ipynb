{
 "cells": [
  {
   "cell_type": "code",
   "execution_count": 1,
   "metadata": {},
   "outputs": [],
   "source": [
    "import torch \n",
    "from torch import nn"
   ]
  },
  {
   "cell_type": "code",
   "execution_count": 2,
   "metadata": {},
   "outputs": [],
   "source": [
    "mha = nn.MultiheadAttention(1,1,batch_first=True)"
   ]
  },
  {
   "cell_type": "code",
   "execution_count": null,
   "metadata": {},
   "outputs": [],
   "source": [
    "key_padding_mask=None, need_weights=True, attn_mask=None, average_attn_weights=True, is_causal=False"
   ]
  },
  {
   "cell_type": "code",
   "execution_count": 3,
   "metadata": {},
   "outputs": [
    {
     "data": {
      "text/plain": [
       "tensor([[False,  True,  True,  True,  True,  True,  True,  True,  True,  True],\n",
       "        [False, False, False, False, False, False, False, False, False,  True],\n",
       "        [False, False, False, False, False, False,  True,  True,  True,  True],\n",
       "        [False, False, False, False, False, False, False,  True,  True,  True],\n",
       "        [False, False,  True,  True,  True,  True,  True,  True,  True,  True]])"
      ]
     },
     "execution_count": 3,
     "metadata": {},
     "output_type": "execute_result"
    }
   ],
   "source": [
    "causal_mask = torch.triu(torch.ones(5, 5), diagonal=1).bool()\n",
    "pad_mask = []\n",
    "for i in range(5):\n",
    "    mask = [0 for _ in range(torch.randint(1,10,(1,)).item())]\n",
    "    mask += [1]*(10-len(mask))\n",
    "    pad_mask.append(mask)\n",
    "pad_mask = torch.tensor(pad_mask,dtype=torch.bool)\n",
    "pad_mask[0,1:]=1\n",
    "pad_mask"
   ]
  },
  {
   "cell_type": "code",
   "execution_count": 21,
   "metadata": {},
   "outputs": [],
   "source": [
    "pad_mask = torch.tensor([[True, True, True, False, False],[False, True, True, False, False]]) \n"
   ]
  },
  {
   "cell_type": "code",
   "execution_count": 28,
   "metadata": {},
   "outputs": [],
   "source": [
    "x = torch.rand((2,5,1))\n",
    "attn_mask = mha.merge_masks(causal_mask,pad_mask,x)[0].reshape(-1,5,5)\n",
    "outputs = mha(x,x,x,attn_mask = attn_mask.masked_fill(attn_mask == 1, float('-inf')))[0]"
   ]
  },
  {
   "cell_type": "code",
   "execution_count": 30,
   "metadata": {},
   "outputs": [
    {
     "data": {
      "text/plain": [
       "tensor([[ True,  True,  True, False, False],\n",
       "        [False,  True,  True, False, False]])"
      ]
     },
     "execution_count": 30,
     "metadata": {},
     "output_type": "execute_result"
    }
   ],
   "source": [
    "pad_mask"
   ]
  },
  {
   "cell_type": "code",
   "execution_count": 31,
   "metadata": {},
   "outputs": [
    {
     "name": "stdout",
     "output_type": "stream",
     "text": [
      "tensor([[True, True, True, True],\n",
      "        [True, True, True, True]])\n"
     ]
    }
   ],
   "source": [
    "b, n, e, c = 2, 5, 3, 4  # batch, tokens, experts, capacity\n",
    "\n",
    "# Example dispatch tensor: (b, n, e, c)\n",
    "dispatch_tensor = torch.randint(0, 2, (b, n, e, c), dtype=torch.bool)\n",
    "\n",
    "# Example pad mask: (b, n) - True means padding, False means real token\n",
    "pad_mask = torch.randint(0, 2, (b, n), dtype=torch.bool)\n",
    "\n",
    "# Step 1: Expand pad_mask to match dispatch_tensor shape (b, n, 1, 1)\n",
    "pad_mask_expanded = pad_mask.unsqueeze(-1).unsqueeze(-1)  # Shape: (b, n, 1, 1)\n",
    "\n",
    "# Step 2: Apply dispatch_tensor to get padding distribution\n",
    "expert_pad_mask = (dispatch_tensor & pad_mask_expanded)  # Shape: (b, n, e, c)\n",
    "\n",
    "# Step 3: Aggregate over tokens (n) and experts (e) to compute final mask\n",
    "final_pad_mask = expert_pad_mask.any(dim=(1, 2))  # Shape: (b, c)\n",
    "\n",
    "# Display results\n",
    "print(final_pad_mask)"
   ]
  },
  {
   "cell_type": "code",
   "execution_count": 32,
   "metadata": {},
   "outputs": [
    {
     "data": {
      "text/plain": [
       "tensor([[ True, False, False,  True, False],\n",
       "        [ True, False, False,  True,  True]])"
      ]
     },
     "execution_count": 32,
     "metadata": {},
     "output_type": "execute_result"
    }
   ],
   "source": [
    "pad_mask"
   ]
  },
  {
   "cell_type": "code",
   "execution_count": 37,
   "metadata": {},
   "outputs": [
    {
     "name": "stdout",
     "output_type": "stream",
     "text": [
      "\n",
      " !$&',-.3:;?ABCDEFGHIJKLMNOPQRSTUVWXYZabcdefghijklmnopqrstuvwxyz\n",
      "65\n"
     ]
    }
   ],
   "source": [
    "with open('shakespear.txt', 'r', encoding='utf-8') as f:\n",
    "    text = f.read()\n",
    "chars = sorted(list(set(text)))\n",
    "vocab_size = len(chars)\n",
    "print(''.join(chars))\n",
    "print(vocab_size)"
   ]
  },
  {
   "cell_type": "code",
   "execution_count": 38,
   "metadata": {},
   "outputs": [
    {
     "name": "stdout",
     "output_type": "stream",
     "text": [
      "[46, 47, 47, 1, 58, 46, 43, 56, 43]\n",
      "hii there\n"
     ]
    }
   ],
   "source": [
    "stoi = { ch:i for i,ch in enumerate(chars) }\n",
    "itos = { i:ch for i,ch in enumerate(chars) }\n",
    "encode = lambda s: [stoi[c] for c in s] # encoder: take a string, output a list of integers\n",
    "decode = lambda l: ''.join([itos[i] for i in l]) # decoder: take a list of integers, output a string\n",
    "\n",
    "print(encode(\"hii there\"))\n",
    "print(decode(encode(\"hii there\")))"
   ]
  },
  {
   "cell_type": "code",
   "execution_count": 39,
   "metadata": {},
   "outputs": [],
   "source": [
    "data = torch.tensor(encode(text), dtype=torch.long)\n",
    "n = int(0.9*len(data)) # first 90% will be train, rest val\n",
    "train_data = data[:n]\n",
    "val_data = data[n:]"
   ]
  }
 ],
 "metadata": {
  "kernelspec": {
   "display_name": "Python 3",
   "language": "python",
   "name": "python3"
  },
  "language_info": {
   "codemirror_mode": {
    "name": "ipython",
    "version": 3
   },
   "file_extension": ".py",
   "mimetype": "text/x-python",
   "name": "python",
   "nbconvert_exporter": "python",
   "pygments_lexer": "ipython3",
   "version": "3.10.11"
  }
 },
 "nbformat": 4,
 "nbformat_minor": 2
}
